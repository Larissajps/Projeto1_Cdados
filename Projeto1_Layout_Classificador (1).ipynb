{
 "cells": [
  {
   "cell_type": "markdown",
   "source": [
    "# Projeto 1 - Ciência dos Dados"
   ],
   "metadata": {}
  },
  {
   "cell_type": "markdown",
   "source": [
    "Nome: Luis Antônio Bordignon de Oliveira\r\n",
    "\r\n",
    "Nome: Larissa Jordana de Paula Soares"
   ],
   "metadata": {}
  },
  {
   "cell_type": "markdown",
   "source": [
    "Atenção: Serão permitidos grupos de três pessoas, mas com uma rubrica mais exigente. Grupos deste tamanho precisarão fazer um questionário de avaliação de trabalho em equipe"
   ],
   "metadata": {}
  },
  {
   "cell_type": "markdown",
   "source": [
    "___\n",
    "Carregando algumas bibliotecas:"
   ],
   "metadata": {}
  },
  {
   "cell_type": "code",
   "execution_count": 23,
   "source": [
    "%matplotlib inline\r\n",
    "import pandas as pd\r\n",
    "import matplotlib.pyplot as plt\r\n",
    "import numpy as np\r\n",
    "import os"
   ],
   "outputs": [],
   "metadata": {}
  },
  {
   "cell_type": "code",
   "execution_count": 24,
   "source": [
    "print('Esperamos trabalhar no diretório')\r\n",
    "print(os.getcwd())"
   ],
   "outputs": [
    {
     "output_type": "stream",
     "name": "stdout",
     "text": [
      "Esperamos trabalhar no diretório\n",
      "c:\\Users\\luisa\\Projeto1_Cdados\n"
     ]
    }
   ],
   "metadata": {
    "scrolled": false
   }
  },
  {
   "cell_type": "markdown",
   "source": [
    "Carregando a base de dados com os tweets classificados como relevantes e não relevantes:"
   ],
   "metadata": {}
  },
  {
   "cell_type": "code",
   "execution_count": 25,
   "source": [
    "filename = 'sony.xlsx'"
   ],
   "outputs": [],
   "metadata": {}
  },
  {
   "cell_type": "code",
   "execution_count": 26,
   "source": [
    "train = pd.read_excel(filename)\r\n",
    "train.head(5)"
   ],
   "outputs": [
    {
     "output_type": "execute_result",
     "data": {
      "text/html": [
       "<div>\n",
       "<style scoped>\n",
       "    .dataframe tbody tr th:only-of-type {\n",
       "        vertical-align: middle;\n",
       "    }\n",
       "\n",
       "    .dataframe tbody tr th {\n",
       "        vertical-align: top;\n",
       "    }\n",
       "\n",
       "    .dataframe thead th {\n",
       "        text-align: right;\n",
       "    }\n",
       "</style>\n",
       "<table border=\"1\" class=\"dataframe\">\n",
       "  <thead>\n",
       "    <tr style=\"text-align: right;\">\n",
       "      <th></th>\n",
       "      <th>Treinamento</th>\n",
       "      <th>Classificação</th>\n",
       "    </tr>\n",
       "  </thead>\n",
       "  <tbody>\n",
       "    <tr>\n",
       "      <th>0</th>\n",
       "      <td>se o martinho da vila pedir 01 dólar por cada ...</td>\n",
       "      <td>I</td>\n",
       "    </tr>\n",
       "    <tr>\n",
       "      <th>1</th>\n",
       "      <td>@jeanino_ @s9_ricardo @fuck_off_matt então a s...</td>\n",
       "      <td>I</td>\n",
       "    </tr>\n",
       "    <tr>\n",
       "      <th>2</th>\n",
       "      <td>2022 vai me falir dmsssss pqp caralho https://...</td>\n",
       "      <td>I</td>\n",
       "    </tr>\n",
       "    <tr>\n",
       "      <th>3</th>\n",
       "      <td>@luarzinmsm ata, a sony é uma vagabunda mesmo</td>\n",
       "      <td>I</td>\n",
       "    </tr>\n",
       "    <tr>\n",
       "      <th>4</th>\n",
       "      <td>@rafael_fenixx @raphaelvieirac4 @drakesincero1...</td>\n",
       "      <td>I</td>\n",
       "    </tr>\n",
       "  </tbody>\n",
       "</table>\n",
       "</div>"
      ],
      "text/plain": [
       "                                         Treinamento Classificação\n",
       "0  se o martinho da vila pedir 01 dólar por cada ...             I\n",
       "1  @jeanino_ @s9_ricardo @fuck_off_matt então a s...             I\n",
       "2  2022 vai me falir dmsssss pqp caralho https://...             I\n",
       "3      @luarzinmsm ata, a sony é uma vagabunda mesmo             I\n",
       "4  @rafael_fenixx @raphaelvieirac4 @drakesincero1...             I"
      ]
     },
     "metadata": {},
     "execution_count": 26
    }
   ],
   "metadata": {}
  },
  {
   "cell_type": "code",
   "execution_count": 27,
   "source": [
    "test = pd.read_excel(filename, sheet_name = 'Teste')\r\n",
    "test.head(5)"
   ],
   "outputs": [
    {
     "output_type": "execute_result",
     "data": {
      "text/html": [
       "<div>\n",
       "<style scoped>\n",
       "    .dataframe tbody tr th:only-of-type {\n",
       "        vertical-align: middle;\n",
       "    }\n",
       "\n",
       "    .dataframe tbody tr th {\n",
       "        vertical-align: top;\n",
       "    }\n",
       "\n",
       "    .dataframe thead th {\n",
       "        text-align: right;\n",
       "    }\n",
       "</style>\n",
       "<table border=\"1\" class=\"dataframe\">\n",
       "  <thead>\n",
       "    <tr style=\"text-align: right;\">\n",
       "      <th></th>\n",
       "      <th>Teste</th>\n",
       "      <th>Clasificação</th>\n",
       "    </tr>\n",
       "  </thead>\n",
       "  <tbody>\n",
       "    <tr>\n",
       "      <th>0</th>\n",
       "      <td>único jogo novo anunciado pela sony que eu que...</td>\n",
       "      <td>R</td>\n",
       "    </tr>\n",
       "    <tr>\n",
       "      <th>1</th>\n",
       "      <td>@highlevelbeu sony no seu nivel mais belo né k...</td>\n",
       "      <td>I</td>\n",
       "    </tr>\n",
       "    <tr>\n",
       "      <th>2</th>\n",
       "      <td>a sony vai lançar uma sequência de jogos mt fo...</td>\n",
       "      <td>I</td>\n",
       "    </tr>\n",
       "    <tr>\n",
       "      <th>3</th>\n",
       "      <td>@th0rdthy gloria a sony</td>\n",
       "      <td>I</td>\n",
       "    </tr>\n",
       "    <tr>\n",
       "      <th>4</th>\n",
       "      <td>@paladinodoxbox sony liberou a versão do ps5, ...</td>\n",
       "      <td>I</td>\n",
       "    </tr>\n",
       "  </tbody>\n",
       "</table>\n",
       "</div>"
      ],
      "text/plain": [
       "                                               Teste Clasificação\n",
       "0  único jogo novo anunciado pela sony que eu que...            R\n",
       "1  @highlevelbeu sony no seu nivel mais belo né k...            I\n",
       "2  a sony vai lançar uma sequência de jogos mt fo...            I\n",
       "3                            @th0rdthy gloria a sony            I\n",
       "4  @paladinodoxbox sony liberou a versão do ps5, ...            I"
      ]
     },
     "metadata": {},
     "execution_count": 27
    }
   ],
   "metadata": {}
  },
  {
   "cell_type": "markdown",
   "source": [
    "___\n",
    "## Classificador automático de sentimento\n"
   ],
   "metadata": {}
  },
  {
   "cell_type": "markdown",
   "source": [
    "Faça aqui uma descrição do seu produto e o que considerou como relevante ou não relevante na classificação dos tweets.\r\n",
    "\r\n",
    "RESPOSTA: Foram consideradas relevantes críticas à empresa sony (com contexto detectável), como a insatisfação do público por causa do pequeno tempo de duração de um filme produzido pela empresa. Também, em menor quantidade, elogios certeiros foram levados em consideração, apontando aonde a empresa acertou e deve continuar assim.\r\n"
   ],
   "metadata": {}
  },
  {
   "cell_type": "markdown",
   "source": [
    "___\n",
    "### Montando um Classificador Naive-Bayes\n",
    "\n",
    "Considerando apenas as mensagens da planilha Treinamento, ensine  seu classificador."
   ],
   "metadata": {}
  },
  {
   "cell_type": "code",
   "execution_count": 28,
   "source": [
    "# Arquivo \"sony\"\r\n",
    "train.head(30)"
   ],
   "outputs": [
    {
     "output_type": "execute_result",
     "data": {
      "text/html": [
       "<div>\n",
       "<style scoped>\n",
       "    .dataframe tbody tr th:only-of-type {\n",
       "        vertical-align: middle;\n",
       "    }\n",
       "\n",
       "    .dataframe tbody tr th {\n",
       "        vertical-align: top;\n",
       "    }\n",
       "\n",
       "    .dataframe thead th {\n",
       "        text-align: right;\n",
       "    }\n",
       "</style>\n",
       "<table border=\"1\" class=\"dataframe\">\n",
       "  <thead>\n",
       "    <tr style=\"text-align: right;\">\n",
       "      <th></th>\n",
       "      <th>Treinamento</th>\n",
       "      <th>Classificação</th>\n",
       "    </tr>\n",
       "  </thead>\n",
       "  <tbody>\n",
       "    <tr>\n",
       "      <th>0</th>\n",
       "      <td>se o martinho da vila pedir 01 dólar por cada ...</td>\n",
       "      <td>I</td>\n",
       "    </tr>\n",
       "    <tr>\n",
       "      <th>1</th>\n",
       "      <td>@jeanino_ @s9_ricardo @fuck_off_matt então a s...</td>\n",
       "      <td>I</td>\n",
       "    </tr>\n",
       "    <tr>\n",
       "      <th>2</th>\n",
       "      <td>2022 vai me falir dmsssss pqp caralho https://...</td>\n",
       "      <td>I</td>\n",
       "    </tr>\n",
       "    <tr>\n",
       "      <th>3</th>\n",
       "      <td>@luarzinmsm ata, a sony é uma vagabunda mesmo</td>\n",
       "      <td>I</td>\n",
       "    </tr>\n",
       "    <tr>\n",
       "      <th>4</th>\n",
       "      <td>@rafael_fenixx @raphaelvieirac4 @drakesincero1...</td>\n",
       "      <td>I</td>\n",
       "    </tr>\n",
       "    <tr>\n",
       "      <th>5</th>\n",
       "      <td>@formigonny acho que vai ser só sony viu...</td>\n",
       "      <td>I</td>\n",
       "    </tr>\n",
       "    <tr>\n",
       "      <th>6</th>\n",
       "      <td>@articdango se fosse só hypar o jogo ele poder...</td>\n",
       "      <td>I</td>\n",
       "    </tr>\n",
       "    <tr>\n",
       "      <th>7</th>\n",
       "      <td>@comi_nem @fuck_off_matt \"skyrim supera todos ...</td>\n",
       "      <td>R</td>\n",
       "    </tr>\n",
       "    <tr>\n",
       "      <th>8</th>\n",
       "      <td>tomara que o filme da mulher-aranha seja marve...</td>\n",
       "      <td>R</td>\n",
       "    </tr>\n",
       "    <tr>\n",
       "      <th>9</th>\n",
       "      <td>nem fudendo sony pqp https://t.co/pcv3hrzj1e</td>\n",
       "      <td>R</td>\n",
       "    </tr>\n",
       "    <tr>\n",
       "      <th>10</th>\n",
       "      <td>venom com 1h30 de duração, a sony n tem nem ve...</td>\n",
       "      <td>R</td>\n",
       "    </tr>\n",
       "    <tr>\n",
       "      <th>11</th>\n",
       "      <td>@marquerasm @fuck_off_matt pra eles todo jogo ...</td>\n",
       "      <td>I</td>\n",
       "    </tr>\n",
       "    <tr>\n",
       "      <th>12</th>\n",
       "      <td>pq choras haters de consoles da sony? vc mesmo...</td>\n",
       "      <td>I</td>\n",
       "    </tr>\n",
       "    <tr>\n",
       "      <th>13</th>\n",
       "      <td>🇯🇵hoje é dia de #ghostoftsushima director's cu...</td>\n",
       "      <td>I</td>\n",
       "    </tr>\n",
       "    <tr>\n",
       "      <th>14</th>\n",
       "      <td>@jeanino_ @s9_ricardo @fuck_off_matt sot riu d...</td>\n",
       "      <td>I</td>\n",
       "    </tr>\n",
       "    <tr>\n",
       "      <th>15</th>\n",
       "      <td>23:59 - \"phil tá certo, não tem que imitar a s...</td>\n",
       "      <td>R</td>\n",
       "    </tr>\n",
       "    <tr>\n",
       "      <th>16</th>\n",
       "      <td>@duffonedasilva é assim:\\nsony muda god of war...</td>\n",
       "      <td>R</td>\n",
       "    </tr>\n",
       "    <tr>\n",
       "      <th>17</th>\n",
       "      <td>@spidermanbra pelo amor de deus já não basta c...</td>\n",
       "      <td>R</td>\n",
       "    </tr>\n",
       "    <tr>\n",
       "      <th>18</th>\n",
       "      <td>1h30 de filme é vacilo demais vtnc sony</td>\n",
       "      <td>R</td>\n",
       "    </tr>\n",
       "    <tr>\n",
       "      <th>19</th>\n",
       "      <td>@windowsclubbr tá sem conteúdo? 😂😂😂😂😂😂😂 o cara...</td>\n",
       "      <td>I</td>\n",
       "    </tr>\n",
       "    <tr>\n",
       "      <th>20</th>\n",
       "      <td>caraca, o temaki daquele sony sushi é bom dema...</td>\n",
       "      <td>I</td>\n",
       "    </tr>\n",
       "    <tr>\n",
       "      <th>21</th>\n",
       "      <td>@condutoideray real\\nvendo no contexto que um ...</td>\n",
       "      <td>R</td>\n",
       "    </tr>\n",
       "    <tr>\n",
       "      <th>22</th>\n",
       "      <td>se considerarmos o homem-aranha que é da sony ...</td>\n",
       "      <td>I</td>\n",
       "    </tr>\n",
       "    <tr>\n",
       "      <th>23</th>\n",
       "      <td>@andr28339434 @fuck_off_matt ta escrito otario...</td>\n",
       "      <td>R</td>\n",
       "    </tr>\n",
       "    <tr>\n",
       "      <th>24</th>\n",
       "      <td>@rau1vargas eu n sei nem oq esperar da sony</td>\n",
       "      <td>I</td>\n",
       "    </tr>\n",
       "    <tr>\n",
       "      <th>25</th>\n",
       "      <td>@danillo_bpn ... realista é tudo que presta, e...</td>\n",
       "      <td>I</td>\n",
       "    </tr>\n",
       "    <tr>\n",
       "      <th>26</th>\n",
       "      <td>@valmiltoncosta @fuckm3gabs @brmarvelnews o ho...</td>\n",
       "      <td>I</td>\n",
       "    </tr>\n",
       "    <tr>\n",
       "      <th>27</th>\n",
       "      <td>@_magnoo @fuck_off_matt o negocio é que esse p...</td>\n",
       "      <td>I</td>\n",
       "    </tr>\n",
       "    <tr>\n",
       "      <th>28</th>\n",
       "      <td>preto no branco - tudo coopera (sony music liv...</td>\n",
       "      <td>I</td>\n",
       "    </tr>\n",
       "    <tr>\n",
       "      <th>29</th>\n",
       "      <td>@deukaevigne tá passando o 3 na sony agora e t...</td>\n",
       "      <td>I</td>\n",
       "    </tr>\n",
       "  </tbody>\n",
       "</table>\n",
       "</div>"
      ],
      "text/plain": [
       "                                          Treinamento Classificação\n",
       "0   se o martinho da vila pedir 01 dólar por cada ...             I\n",
       "1   @jeanino_ @s9_ricardo @fuck_off_matt então a s...             I\n",
       "2   2022 vai me falir dmsssss pqp caralho https://...             I\n",
       "3       @luarzinmsm ata, a sony é uma vagabunda mesmo             I\n",
       "4   @rafael_fenixx @raphaelvieirac4 @drakesincero1...             I\n",
       "5         @formigonny acho que vai ser só sony viu...             I\n",
       "6   @articdango se fosse só hypar o jogo ele poder...             I\n",
       "7   @comi_nem @fuck_off_matt \"skyrim supera todos ...             R\n",
       "8   tomara que o filme da mulher-aranha seja marve...             R\n",
       "9        nem fudendo sony pqp https://t.co/pcv3hrzj1e             R\n",
       "10  venom com 1h30 de duração, a sony n tem nem ve...             R\n",
       "11  @marquerasm @fuck_off_matt pra eles todo jogo ...             I\n",
       "12  pq choras haters de consoles da sony? vc mesmo...             I\n",
       "13  🇯🇵hoje é dia de #ghostoftsushima director's cu...             I\n",
       "14  @jeanino_ @s9_ricardo @fuck_off_matt sot riu d...             I\n",
       "15  23:59 - \"phil tá certo, não tem que imitar a s...             R\n",
       "16  @duffonedasilva é assim:\\nsony muda god of war...             R\n",
       "17  @spidermanbra pelo amor de deus já não basta c...             R\n",
       "18            1h30 de filme é vacilo demais vtnc sony             R\n",
       "19  @windowsclubbr tá sem conteúdo? 😂😂😂😂😂😂😂 o cara...             I\n",
       "20  caraca, o temaki daquele sony sushi é bom dema...             I\n",
       "21  @condutoideray real\\nvendo no contexto que um ...             R\n",
       "22  se considerarmos o homem-aranha que é da sony ...             I\n",
       "23  @andr28339434 @fuck_off_matt ta escrito otario...             R\n",
       "24        @rau1vargas eu n sei nem oq esperar da sony             I\n",
       "25  @danillo_bpn ... realista é tudo que presta, e...             I\n",
       "26  @valmiltoncosta @fuckm3gabs @brmarvelnews o ho...             I\n",
       "27  @_magnoo @fuck_off_matt o negocio é que esse p...             I\n",
       "28  preto no branco - tudo coopera (sony music liv...             I\n",
       "29  @deukaevigne tá passando o 3 na sony agora e t...             I"
      ]
     },
     "metadata": {},
     "execution_count": 28
    }
   ],
   "metadata": {}
  },
  {
   "cell_type": "code",
   "execution_count": 29,
   "source": [
    "# Colocando todas as letras do arquivo em minúsculo\r\n",
    "# for i in range:\r\n",
    "#     train. LINHA(i). lower()\r\n",
    "def limpeza(texto):\r\n",
    "    # \"Consertando\" abreviações e gírias comuns\r\n",
    "    dic_girias = {\"sim\":['s','siim','siiim','simm','yes'], \r\n",
    "    \"nao\": ['n', 'naao', 'não', 'ñ','naoo','no'], \r\n",
    "    \"muito\":['mt'], \r\n",
    "    \"porque\":['pq', 'por que', 'pqq','porquê'], \r\n",
    "    \"beleza\":['blz','beless','belesma'] }\r\n",
    "\r\n",
    "    # Retirando os acentos\r\n",
    "    dic_acentos = {\"c\":['ç'], \"a\":['â', 'á', 'à', 'ã'],\r\n",
    "    \"e\": ['é','ê','è'], \r\n",
    "    \"i\": ['í','î','ì'], \r\n",
    "    \"o\": ['õ', 'ô', 'ó', 'ò'], \r\n",
    "    \"u\":['ú', 'ù', 'û']}\r\n",
    "\r\n",
    "    # Colocando tudo em minúsculo\r\n",
    "    dic_minusculo = # COMO UTILIZAR O .LOWER() AQUI?????????????????????????????????????????????????????????????????????????????????????????????????????????????????????\r\n",
    "\r\n",
    "    \r\n"
   ],
   "outputs": [
    {
     "output_type": "error",
     "ename": "SyntaxError",
     "evalue": "invalid syntax (<ipython-input-29-10f54a5150b5>, line 20)",
     "traceback": [
      "\u001b[1;36m  File \u001b[1;32m\"<ipython-input-29-10f54a5150b5>\"\u001b[1;36m, line \u001b[1;32m20\u001b[0m\n\u001b[1;33m    dic_minusculo = # COMO UTILIZAR O .LOWER() AQUI?????????????????????????????????????????????????????????????????????????????????????????????????????????????????????\u001b[0m\n\u001b[1;37m                    ^\u001b[0m\n\u001b[1;31mSyntaxError\u001b[0m\u001b[1;31m:\u001b[0m invalid syntax\n"
     ]
    }
   ],
   "metadata": {}
  },
  {
   "cell_type": "code",
   "execution_count": null,
   "source": [],
   "outputs": [],
   "metadata": {}
  },
  {
   "cell_type": "code",
   "execution_count": null,
   "source": [],
   "outputs": [],
   "metadata": {}
  },
  {
   "cell_type": "markdown",
   "source": [
    "___\n",
    "### Verificando a performance do Classificador\n",
    "\n",
    "Agora você deve testar o seu classificador com a base de Testes."
   ],
   "metadata": {}
  },
  {
   "cell_type": "code",
   "execution_count": null,
   "source": [],
   "outputs": [],
   "metadata": {}
  },
  {
   "cell_type": "code",
   "execution_count": null,
   "source": [],
   "outputs": [],
   "metadata": {}
  },
  {
   "cell_type": "code",
   "execution_count": null,
   "source": [],
   "outputs": [],
   "metadata": {}
  },
  {
   "cell_type": "markdown",
   "source": [
    "___\n",
    "### Concluindo"
   ],
   "metadata": {}
  },
  {
   "cell_type": "code",
   "execution_count": null,
   "source": [],
   "outputs": [],
   "metadata": {}
  },
  {
   "cell_type": "code",
   "execution_count": null,
   "source": [],
   "outputs": [],
   "metadata": {}
  },
  {
   "cell_type": "code",
   "execution_count": null,
   "source": [],
   "outputs": [],
   "metadata": {}
  },
  {
   "cell_type": "markdown",
   "source": [
    "___\n",
    "### Qualidade do Classificador a partir de novas separações dos tweets entre Treinamento e Teste\n",
    "\n",
    "Caso for fazer esse item do Projeto"
   ],
   "metadata": {}
  },
  {
   "cell_type": "code",
   "execution_count": null,
   "source": [],
   "outputs": [],
   "metadata": {}
  },
  {
   "cell_type": "code",
   "execution_count": null,
   "source": [],
   "outputs": [],
   "metadata": {}
  },
  {
   "cell_type": "code",
   "execution_count": null,
   "source": [],
   "outputs": [],
   "metadata": {}
  },
  {
   "cell_type": "markdown",
   "source": [
    "___\n",
    "## Aperfeiçoamento:\n",
    "\n",
    "Trabalhos que conseguirem pelo menos conceito B vão evoluir em conceito dependendo da quantidade de itens avançados:\n",
    "\n",
    "* IMPLEMENTOU outras limpezas e transformações que não afetem a qualidade da informação contida nos tweets. Ex: stemming, lemmatization, stopwords\n",
    "* CORRIGIU separação de espaços entre palavras e emojis ou entre emojis e emojis\n",
    "* CRIOU categorias intermediárias de relevância baseadas na probabilidade: ex.: muito relevante, relevante, neutro, irrelevante, muito irrelevante. Pelo menos quatro categorias, com adição de mais tweets na base, conforme enunciado. (OBRIGATÓRIO PARA TRIOS, sem contar como item avançado)\n",
    "* EXPLICOU porquê não pode usar o próprio classificador para gerar mais amostras de treinamento\n",
    "* PROPÔS diferentes cenários para Naïve Bayes fora do contexto do projeto\n",
    "* SUGERIU e EXPLICOU melhorias reais com indicações concretas de como implementar (indicar como fazer e indicar material de pesquisa)\n",
    "* FEZ o item 6. Qualidade do Classificador a partir de novas separações dos tweets entre Treinamento e Teste descrito no enunciado do projeto (OBRIGATÓRIO para conceitos A ou A+)"
   ],
   "metadata": {},
   "attachments": {}
  },
  {
   "cell_type": "markdown",
   "source": [
    "___\n",
    "## Referências"
   ],
   "metadata": {}
  },
  {
   "cell_type": "markdown",
   "source": [
    "[Naive Bayes and Text Classification](https://arxiv.org/pdf/1410.5329.pdf)  **Mais completo**\n",
    "\n",
    "[A practical explanation of a Naive Bayes Classifier](https://monkeylearn.com/blog/practical-explanation-naive-bayes-classifier/) **Mais simples**"
   ],
   "metadata": {}
  },
  {
   "cell_type": "code",
   "execution_count": null,
   "source": [],
   "outputs": [],
   "metadata": {}
  }
 ],
 "metadata": {
  "kernelspec": {
   "display_name": "Python 3",
   "language": "python",
   "name": "python3"
  },
  "language_info": {
   "codemirror_mode": {
    "name": "ipython",
    "version": 3
   },
   "file_extension": ".py",
   "mimetype": "text/x-python",
   "name": "python",
   "nbconvert_exporter": "python",
   "pygments_lexer": "ipython3",
   "version": "3.8.8"
  }
 },
 "nbformat": 4,
 "nbformat_minor": 4
}