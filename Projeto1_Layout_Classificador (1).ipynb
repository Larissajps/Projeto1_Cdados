{
 "cells": [
  {
   "cell_type": "markdown",
   "source": [
    "# Projeto 1 - Ciência dos Dados"
   ],
   "metadata": {}
  },
  {
   "cell_type": "markdown",
   "source": [
    "### Objetivo do Projeto\n",
    "\n",
    "Você foi contratado por uma empresa para analisar como os clientes estão reagindo a um determinado produto no Twitter. A empresa deseja que você: crie um programa que selecione algumas mensagens disponíveis no Twitter, as quais mencionam esse particular produto; e classifique esses tweets como \"relevante\" ou \"irrelevante\", pelo menos.Com isso, essa empresa deseja que mensagens relevantes, que denigrem o nome do produto, ou que mereçam destaque, por exemplo, disparem um foco de atenção da área de marketing. Como aluno de Ciência dos Dados, você lembrou do Teorema de Bayes, mais especificamente do Classificador Naive-Bayes, que é largamente utilizado em filtros anti-spam de e-mails, por exemplo. Esse classificador permite calcular qual a probabilidade de uma mensagem ser relevante dada as palavras em seu conteúdo.\n",
    "\n",
    "Para realizar o MVP (minimum viable product) do projeto, você precisa implementar uma versão do classificador que \"aprende\" o que é relevante com uma base de treinamento e compara a performance dos resultados com uma base de testes.\n",
    "\n",
    "Após validado, o seu protótipo poderia, porque não, também capturar e classificar automaticamente as mensagens da plataforma.\n"
   ],
   "metadata": {}
  },
  {
   "cell_type": "markdown",
   "source": [
    "#### Contribuidores\n",
    "\n",
    "Nome: Larissa Jordana de Paula Soares\n",
    "\n",
    "Nome: Luis Antônio Bordignon de Oliveira"
   ],
   "metadata": {}
  },
  {
   "cell_type": "markdown",
   "source": [
    "Atenção: Serão permitidos grupos de três pessoas, mas com uma rubrica mais exigente. Grupos deste tamanho precisarão fazer um questionário de avaliação de trabalho em equipe"
   ],
   "metadata": {}
  },
  {
   "cell_type": "markdown",
   "source": [
    "___\n",
    "Carregando algumas bibliotecas:"
   ],
   "metadata": {}
  },
  {
   "cell_type": "code",
   "execution_count": 1,
   "source": [
    "%matplotlib inline\r\n",
    "import pandas as pd\r\n",
    "import matplotlib.pyplot as plt\r\n",
    "import numpy as np\r\n",
    "import os\r\n",
    "import emoji\r\n",
    "import unidecode\r\n",
    "import unicodedata\r\n",
    "import re"
   ],
   "outputs": [],
   "metadata": {}
  },
  {
   "cell_type": "markdown",
   "source": [
    "### Diretório utilizado:"
   ],
   "metadata": {}
  },
  {
   "cell_type": "code",
   "execution_count": 2,
   "source": [
    "print('Esperamos trabalhar no diretório')\r\n",
    "print(os.getcwd())"
   ],
   "outputs": [
    {
     "output_type": "stream",
     "name": "stdout",
     "text": [
      "Esperamos trabalhar no diretório\n",
      "C:\\Users\\LariLari\\Projeto1_Cdados\n"
     ]
    }
   ],
   "metadata": {
    "scrolled": false
   }
  },
  {
   "cell_type": "markdown",
   "source": [
    "### Carregando a base de dados com os tweets classificados como (R) relevantes e (I) não relevantes do excel de treinamento e teste:"
   ],
   "metadata": {}
  },
  {
   "cell_type": "code",
   "execution_count": 3,
   "source": [
    "filename = 'sony.xlsx'"
   ],
   "outputs": [],
   "metadata": {}
  },
  {
   "cell_type": "code",
   "execution_count": 4,
   "source": [
    "train = pd.read_excel(filename)\r\n",
    "train.head(6)"
   ],
   "outputs": [
    {
     "output_type": "execute_result",
     "data": {
      "text/html": [
       "<div>\n",
       "<style scoped>\n",
       "    .dataframe tbody tr th:only-of-type {\n",
       "        vertical-align: middle;\n",
       "    }\n",
       "\n",
       "    .dataframe tbody tr th {\n",
       "        vertical-align: top;\n",
       "    }\n",
       "\n",
       "    .dataframe thead th {\n",
       "        text-align: right;\n",
       "    }\n",
       "</style>\n",
       "<table border=\"1\" class=\"dataframe\">\n",
       "  <thead>\n",
       "    <tr style=\"text-align: right;\">\n",
       "      <th></th>\n",
       "      <th>Treinamento</th>\n",
       "      <th>Classificação</th>\n",
       "    </tr>\n",
       "  </thead>\n",
       "  <tbody>\n",
       "    <tr>\n",
       "      <th>0</th>\n",
       "      <td>se o martinho da vila pedir 01 dólar por cada ...</td>\n",
       "      <td>I</td>\n",
       "    </tr>\n",
       "    <tr>\n",
       "      <th>1</th>\n",
       "      <td>@jeanino_ @s9_ricardo @fuck_off_matt então a s...</td>\n",
       "      <td>I</td>\n",
       "    </tr>\n",
       "    <tr>\n",
       "      <th>2</th>\n",
       "      <td>2022 vai me falir dmsssss pqp caralho https://...</td>\n",
       "      <td>I</td>\n",
       "    </tr>\n",
       "    <tr>\n",
       "      <th>3</th>\n",
       "      <td>@luarzinmsm ata, a sony é uma vagabunda mesmo</td>\n",
       "      <td>I</td>\n",
       "    </tr>\n",
       "    <tr>\n",
       "      <th>4</th>\n",
       "      <td>@rafael_fenixx @raphaelvieirac4 @drakesincero1...</td>\n",
       "      <td>I</td>\n",
       "    </tr>\n",
       "    <tr>\n",
       "      <th>5</th>\n",
       "      <td>@formigonny acho que vai ser só sony viu...</td>\n",
       "      <td>I</td>\n",
       "    </tr>\n",
       "  </tbody>\n",
       "</table>\n",
       "</div>"
      ],
      "text/plain": [
       "                                         Treinamento Classificação\n",
       "0  se o martinho da vila pedir 01 dólar por cada ...             I\n",
       "1  @jeanino_ @s9_ricardo @fuck_off_matt então a s...             I\n",
       "2  2022 vai me falir dmsssss pqp caralho https://...             I\n",
       "3      @luarzinmsm ata, a sony é uma vagabunda mesmo             I\n",
       "4  @rafael_fenixx @raphaelvieirac4 @drakesincero1...             I\n",
       "5        @formigonny acho que vai ser só sony viu...             I"
      ]
     },
     "metadata": {},
     "execution_count": 4
    }
   ],
   "metadata": {}
  },
  {
   "cell_type": "code",
   "execution_count": 5,
   "source": [
    "test = pd.read_excel(filename, sheet_name = 'Teste')\r\n",
    "test.head(5)"
   ],
   "outputs": [
    {
     "output_type": "execute_result",
     "data": {
      "text/html": [
       "<div>\n",
       "<style scoped>\n",
       "    .dataframe tbody tr th:only-of-type {\n",
       "        vertical-align: middle;\n",
       "    }\n",
       "\n",
       "    .dataframe tbody tr th {\n",
       "        vertical-align: top;\n",
       "    }\n",
       "\n",
       "    .dataframe thead th {\n",
       "        text-align: right;\n",
       "    }\n",
       "</style>\n",
       "<table border=\"1\" class=\"dataframe\">\n",
       "  <thead>\n",
       "    <tr style=\"text-align: right;\">\n",
       "      <th></th>\n",
       "      <th>Teste</th>\n",
       "      <th>Clasificação</th>\n",
       "    </tr>\n",
       "  </thead>\n",
       "  <tbody>\n",
       "    <tr>\n",
       "      <th>0</th>\n",
       "      <td>único jogo novo anunciado pela sony que eu que...</td>\n",
       "      <td>R</td>\n",
       "    </tr>\n",
       "    <tr>\n",
       "      <th>1</th>\n",
       "      <td>@highlevelbeu sony no seu nivel mais belo né k...</td>\n",
       "      <td>I</td>\n",
       "    </tr>\n",
       "    <tr>\n",
       "      <th>2</th>\n",
       "      <td>a sony vai lançar uma sequência de jogos mt fo...</td>\n",
       "      <td>I</td>\n",
       "    </tr>\n",
       "    <tr>\n",
       "      <th>3</th>\n",
       "      <td>@th0rdthy gloria a sony</td>\n",
       "      <td>I</td>\n",
       "    </tr>\n",
       "    <tr>\n",
       "      <th>4</th>\n",
       "      <td>@paladinodoxbox sony liberou a versão do ps5, ...</td>\n",
       "      <td>I</td>\n",
       "    </tr>\n",
       "  </tbody>\n",
       "</table>\n",
       "</div>"
      ],
      "text/plain": [
       "                                               Teste Clasificação\n",
       "0  único jogo novo anunciado pela sony que eu que...            R\n",
       "1  @highlevelbeu sony no seu nivel mais belo né k...            I\n",
       "2  a sony vai lançar uma sequência de jogos mt fo...            I\n",
       "3                            @th0rdthy gloria a sony            I\n",
       "4  @paladinodoxbox sony liberou a versão do ps5, ...            I"
      ]
     },
     "metadata": {},
     "execution_count": 5
    }
   ],
   "metadata": {}
  },
  {
   "cell_type": "markdown",
   "source": [
    "___\n",
    "## Classificador automático de sentimento\n"
   ],
   "metadata": {}
  },
  {
   "cell_type": "markdown",
   "source": [
    " ##### Critérios de classificação dos tweets:\n",
    "  Foram consideradas relevantes críticas à empresa sony (com contexto detectável), como a insatisfação do público por causa do pequeno tempo de duração de um filme produzido pela empresa. Também, em menor quantidade, elogios certeiros foram levados em consideração, apontando aonde a empresa acertou e deve continuar assim.\n"
   ],
   "metadata": {}
  },
  {
   "cell_type": "markdown",
   "source": [
    "___\n",
    "## Montando um Classificador Naive-Bayes\n",
    "\n",
    "##### Contextualização:\n",
    "\n",
    "  O algoritmo “Naive Bayes” é um classificador probabilístico muito utilizado em machine learning. Baseado no “Teorema de Bayes”, o modelo foi criado por um matemático inglês, e também ministro presibiteriano, chamado Thomas Bayes (1701 – 1761) para tentar provar a existência de Deus. Hoje é também utilizado na área de Aprendizado de Máquina (Machine Learning) para categorizar textos com base na frequência das palavras usadas. Entre as possibilidades de aplicações está a classificação de um e-mail como SPAM ou Não-SPAM e a identificação de um assunto com base em seu conteúdo. Ele recebe o nome de “naive” (ingênuo) porque desconsidera a correlação entre as variáveis (features). Ou seja, se determinada fruta é rotulada como “Limão”, caso ela também seja descrita como “Verde” e “Redonda”, o algoritmo não vai levar em consideração a correlação entre esses fatores. Isso porque trata cada um de forma independente.\n",
    "  \n",
    "  \n",
    "  \n",
    "  Fontes: https://www.datageeks.com.br/naive-bayes/\n",
    "  \n",
    "  \n",
    "  O modelo Naive Bayes é fácil de construir e particularmente útil para grandes volumes de dados. Além de simples, Naive Bayes é conhecido por ganhar de métodos de classificação altamente sofisticados. Teorema de Bayes fornece uma forma de calcular a probabilidade posterior P (C | X) a partir de P (C), P (x) e P (X | c). Note a equação abaixo:\n",
    "  \n",
    "  $P(c|x) = \\frac{P(x|c) \\cdot P(c)}{P(x)}$ $\\quad$\n",
    "  \n",
    "  \n",
    "  $\\quad\\quad P(c|X) = P(x1|c) \\cdot P(x2|c) \\cdot P(x3|c) \\cdot P(x4|C) \\cdot P(x5|c) \\cdot ... \\cdot P(xN|c) \\cdot P(c)$\n",
    "  \n",
    "  \n",
    " * P (c | x) é a probabilidade posterior da classe (c, alvo) dada preditor (x, atributos).\n",
    " * P (c) é a probabilidade original da classe.\n",
    " * P (x | c) é a probabilidade que representa a probabilidade de preditor dada a classe.\n",
    " * P (x) é a probabilidade original do preditor.\n",
    " \n",
    " \n",
    " \n",
    "  Fontes: https://www.vooo.pro/insights/6-passos-faceis-para-aprender-o-algoritmo-naive-bayes-com-o-codigo-em-python/\n",
    "  \n"
   ],
   "metadata": {}
  },
  {
   "cell_type": "markdown",
   "source": [
    "#### Agora para o nosso projeto:\n",
    "Considerando apenas as mensagens da planilha Treinamento, ensine  seu classificador."
   ],
   "metadata": {}
  },
  {
   "cell_type": "code",
   "execution_count": 6,
   "source": [
    "# Arquivo \"sony\"\r\n",
    "train.head()"
   ],
   "outputs": [
    {
     "output_type": "execute_result",
     "data": {
      "text/html": [
       "<div>\n",
       "<style scoped>\n",
       "    .dataframe tbody tr th:only-of-type {\n",
       "        vertical-align: middle;\n",
       "    }\n",
       "\n",
       "    .dataframe tbody tr th {\n",
       "        vertical-align: top;\n",
       "    }\n",
       "\n",
       "    .dataframe thead th {\n",
       "        text-align: right;\n",
       "    }\n",
       "</style>\n",
       "<table border=\"1\" class=\"dataframe\">\n",
       "  <thead>\n",
       "    <tr style=\"text-align: right;\">\n",
       "      <th></th>\n",
       "      <th>Treinamento</th>\n",
       "      <th>Classificação</th>\n",
       "    </tr>\n",
       "  </thead>\n",
       "  <tbody>\n",
       "    <tr>\n",
       "      <th>0</th>\n",
       "      <td>se o martinho da vila pedir 01 dólar por cada ...</td>\n",
       "      <td>I</td>\n",
       "    </tr>\n",
       "    <tr>\n",
       "      <th>1</th>\n",
       "      <td>@jeanino_ @s9_ricardo @fuck_off_matt então a s...</td>\n",
       "      <td>I</td>\n",
       "    </tr>\n",
       "    <tr>\n",
       "      <th>2</th>\n",
       "      <td>2022 vai me falir dmsssss pqp caralho https://...</td>\n",
       "      <td>I</td>\n",
       "    </tr>\n",
       "    <tr>\n",
       "      <th>3</th>\n",
       "      <td>@luarzinmsm ata, a sony é uma vagabunda mesmo</td>\n",
       "      <td>I</td>\n",
       "    </tr>\n",
       "    <tr>\n",
       "      <th>4</th>\n",
       "      <td>@rafael_fenixx @raphaelvieirac4 @drakesincero1...</td>\n",
       "      <td>I</td>\n",
       "    </tr>\n",
       "  </tbody>\n",
       "</table>\n",
       "</div>"
      ],
      "text/plain": [
       "                                         Treinamento Classificação\n",
       "0  se o martinho da vila pedir 01 dólar por cada ...             I\n",
       "1  @jeanino_ @s9_ricardo @fuck_off_matt então a s...             I\n",
       "2  2022 vai me falir dmsssss pqp caralho https://...             I\n",
       "3      @luarzinmsm ata, a sony é uma vagabunda mesmo             I\n",
       "4  @rafael_fenixx @raphaelvieirac4 @drakesincero1...             I"
      ]
     },
     "metadata": {},
     "execution_count": 6
    }
   ],
   "metadata": {}
  },
  {
   "cell_type": "markdown",
   "source": [
    "## Implementação a devida Limpeza no Twitters:"
   ],
   "metadata": {}
  },
  {
   "cell_type": "code",
   "execution_count": 7,
   "source": [
    "#célula de limpeza\r\n",
    "import functools\r\n",
    "import operator\r\n",
    "def cleanup(text):#Função de limpeza muito simples que troca alguns sinais básicos por espaços\r\n",
    "    #import string\r\n",
    "    punctuation = '[!-.:?;\"”“*)(/|[\\]]' # Note que os sinais [] são delimitadores de um conjunto.\r\n",
    "    pattern = re.compile(punctuation)\r\n",
    "    text_subbed = re.sub(pattern, '', text)\r\n",
    "    text_subbed = emoji.get_emoji_regexp().split(text_subbed)\r\n",
    "    separa = [texto.split() for texto in text_subbed]\r\n",
    "    text_subbed = functools.reduce(operator.concat, separa)\r\n",
    "    return \" \".join(text_subbed)\r\n",
    "\r\n",
    "#Função que coloca todos texto em minúsculo \r\n",
    "def lower(text):\r\n",
    "    return text.lower()\r\n",
    "\r\n",
    "#Função que remove os @ e o \"http\"\r\n",
    "def remove_imagem_arroba(text): \r\n",
    "    lista = \"\"\r\n",
    "    for i in text.split():\r\n",
    "        if i[:4]!= 'http' and i[0]!='@':\r\n",
    "            lista+= i + \" \"\r\n",
    "    return lista.strip()\r\n",
    "\r\n",
    "# Função que remove acentuação\r\n",
    "def remove_acentos(text):\r\n",
    "    text = unicodedata.normalize('NFD', text)\r\n",
    "    return re.sub(r'[\\u0300-\\u036f]', '', text).casefold()\r\n"
   ],
   "outputs": [],
   "metadata": {}
  },
  {
   "cell_type": "code",
   "execution_count": 8,
   "source": [
    "#Função com a implementação de todas a limpezas\r\n",
    "def limpeza (text):\r\n",
    "    text = remove_acentos(text)\r\n",
    "    text= lower(text)\r\n",
    "    text = remove_imagem_arroba(text)\r\n",
    "    text = cleanup(text)\r\n",
    "    return text"
   ],
   "outputs": [],
   "metadata": {}
  },
  {
   "cell_type": "code",
   "execution_count": 9,
   "source": [
    "num= 0\r\n",
    "for i in train.loc[:,'Treinamento']:\r\n",
    "    train.loc[num, 'Treinamento']= limpeza(i)\r\n",
    "    num+= 1\r\n",
    "train"
   ],
   "outputs": [
    {
     "output_type": "execute_result",
     "data": {
      "text/html": [
       "<div>\n",
       "<style scoped>\n",
       "    .dataframe tbody tr th:only-of-type {\n",
       "        vertical-align: middle;\n",
       "    }\n",
       "\n",
       "    .dataframe tbody tr th {\n",
       "        vertical-align: top;\n",
       "    }\n",
       "\n",
       "    .dataframe thead th {\n",
       "        text-align: right;\n",
       "    }\n",
       "</style>\n",
       "<table border=\"1\" class=\"dataframe\">\n",
       "  <thead>\n",
       "    <tr style=\"text-align: right;\">\n",
       "      <th></th>\n",
       "      <th>Treinamento</th>\n",
       "      <th>Classificação</th>\n",
       "    </tr>\n",
       "  </thead>\n",
       "  <tbody>\n",
       "    <tr>\n",
       "      <th>0</th>\n",
       "      <td>se o martinho da vila pedir 01 dolar por cada ...</td>\n",
       "      <td>I</td>\n",
       "    </tr>\n",
       "    <tr>\n",
       "      <th>1</th>\n",
       "      <td>entao a sony n revela os numeros de tlou pq fr...</td>\n",
       "      <td>I</td>\n",
       "    </tr>\n",
       "    <tr>\n",
       "      <th>2</th>\n",
       "      <td>2022 vai me falir dmsssss pqp caralho</td>\n",
       "      <td>I</td>\n",
       "    </tr>\n",
       "    <tr>\n",
       "      <th>3</th>\n",
       "      <td>ata a sony e uma vagabunda mesmo</td>\n",
       "      <td>I</td>\n",
       "    </tr>\n",
       "    <tr>\n",
       "      <th>4</th>\n",
       "      <td>ao decorrer das decadas sony god of war 1° fra...</td>\n",
       "      <td>I</td>\n",
       "    </tr>\n",
       "    <tr>\n",
       "      <th>...</th>\n",
       "      <td>...</td>\n",
       "      <td>...</td>\n",
       "    </tr>\n",
       "    <tr>\n",
       "      <th>295</th>\n",
       "      <td>q na verdade ja tem ne pq em 2017 passava na s...</td>\n",
       "      <td>I</td>\n",
       "    </tr>\n",
       "    <tr>\n",
       "      <th>296</th>\n",
       "      <td>relevancia me diga qual foi o ultimo jogo inov...</td>\n",
       "      <td>R</td>\n",
       "    </tr>\n",
       "    <tr>\n",
       "      <th>297</th>\n",
       "      <td>thor gordo isso mesmo sony sempre fiel a mitol...</td>\n",
       "      <td>I</td>\n",
       "    </tr>\n",
       "    <tr>\n",
       "      <th>298</th>\n",
       "      <td>estranho e saber que a r conseguiu ser a unica...</td>\n",
       "      <td>I</td>\n",
       "    </tr>\n",
       "    <tr>\n",
       "      <th>299</th>\n",
       "      <td>a sony hoje esta totalmente agarrada as parcer...</td>\n",
       "      <td>I</td>\n",
       "    </tr>\n",
       "  </tbody>\n",
       "</table>\n",
       "<p>300 rows × 2 columns</p>\n",
       "</div>"
      ],
      "text/plain": [
       "                                           Treinamento Classificação\n",
       "0    se o martinho da vila pedir 01 dolar por cada ...             I\n",
       "1    entao a sony n revela os numeros de tlou pq fr...             I\n",
       "2                2022 vai me falir dmsssss pqp caralho             I\n",
       "3                     ata a sony e uma vagabunda mesmo             I\n",
       "4    ao decorrer das decadas sony god of war 1° fra...             I\n",
       "..                                                 ...           ...\n",
       "295  q na verdade ja tem ne pq em 2017 passava na s...             I\n",
       "296  relevancia me diga qual foi o ultimo jogo inov...             R\n",
       "297  thor gordo isso mesmo sony sempre fiel a mitol...             I\n",
       "298  estranho e saber que a r conseguiu ser a unica...             I\n",
       "299  a sony hoje esta totalmente agarrada as parcer...             I\n",
       "\n",
       "[300 rows x 2 columns]"
      ]
     },
     "metadata": {},
     "execution_count": 9
    }
   ],
   "metadata": {
    "scrolled": false
   }
  },
  {
   "cell_type": "markdown",
   "source": [
    "### Primeira parte do desenvolvimento:\n",
    " Para essa segunda interação, vamos introduzir alguns calculos importantes. Sendo eles:\n",
    " * Calculo do total de palavras separadas dos tweets relevantes e irrelevantes.\n",
    " * Calculo do total de palavras separadas de dos os tweets.\n",
    " "
   ],
   "metadata": {}
  },
  {
   "cell_type": "code",
   "execution_count": 10,
   "source": [
    "#Separando as mensagens Relevantes e Irrelevantes da nossa base de treinamento\r\n",
    "Train_Relevante= train.loc[train['Classificação']=='R', 'Treinamento']\r\n",
    "Train_Irrelevante= train.loc[train['Classificação']=='I', 'Treinamento']\r\n",
    "Train_Total= train.loc[:,'Treinamento']\r\n",
    "train.shape[0]"
   ],
   "outputs": [
    {
     "output_type": "execute_result",
     "data": {
      "text/plain": [
       "300"
      ]
     },
     "metadata": {},
     "execution_count": 10
    }
   ],
   "metadata": {
    "scrolled": true
   }
  },
  {
   "cell_type": "code",
   "execution_count": 11,
   "source": [
    "# Implementando a limpeza\r\n",
    "l_relevante=[]\r\n",
    "l_irrelevante=[]\r\n",
    "l_total=[]\r\n",
    "\r\n",
    "for i in Train_Relevante:\r\n",
    "    l_relevante.append(i)\r\n",
    "l_relevante= \" \".join(l_relevante).split()\r\n",
    "\r\n",
    "for i in Train_Irrelevante:\r\n",
    "     l_irrelevante.append(i)\r\n",
    "l_irrelevante= \" \".join(l_irrelevante).split()\r\n",
    "for i in Train_Total:\r\n",
    "     l_total.append(i)\r\n",
    "l_total= \" \".join(l_total).split()"
   ],
   "outputs": [],
   "metadata": {}
  },
  {
   "cell_type": "code",
   "execution_count": 12,
   "source": [
    "tab_relevante  = pd.Series(l_relevante)\r\n",
    "tab_irrelevante  = pd.Series(l_irrelevante)\r\n",
    "tab_total  = pd.Series(l_total)"
   ],
   "outputs": [],
   "metadata": {}
  },
  {
   "cell_type": "markdown",
   "source": [
    "###  Fazendo cálculo de frequências:"
   ],
   "metadata": {}
  },
  {
   "cell_type": "code",
   "execution_count": 13,
   "source": [
    "#Frequencias absolutas\r\n",
    "tab_rel_absoluta  = tab_relevante.value_counts()\r\n",
    "tab_irr_absoluta  = tab_irrelevante.value_counts()\r\n",
    "tab_total_absoluta = tab_total.value_counts()"
   ],
   "outputs": [],
   "metadata": {}
  },
  {
   "cell_type": "code",
   "execution_count": 14,
   "source": [
    "# Frequências relativas\r\n",
    "tab_rel_relativa = tab_relevante.value_counts(True)\r\n",
    "tab_irr_relativa = tab_irrelevante.value_counts(True)\r\n",
    "tab_total_relativa = tab_total.value_counts(True)"
   ],
   "outputs": [],
   "metadata": {}
  },
  {
   "cell_type": "code",
   "execution_count": 15,
   "source": [
    "palavras_separadas_total=[]\r\n",
    "for i in l_total:\r\n",
    "    if i not in palavras_separadas_total:\r\n",
    "        palavras_separadas_total.append(i)"
   ],
   "outputs": [],
   "metadata": {}
  },
  {
   "cell_type": "markdown",
   "source": [
    "___\n",
    "### Montando um Classificador Naive-Bayes\n",
    "\n",
    "Considerando apenas as mensagens da planilha Treinamento, ensine  seu classificador."
   ],
   "metadata": {}
  },
  {
   "cell_type": "markdown",
   "source": [
    "### Segundo desenvolvimento:\n",
    "\n",
    "##### Calcular a $P(R)$ e $P(I)$:\n",
    "   Sendo ele: \n",
    "   * $\\quad\\quad P(R) =$ $\\frac{R}{T}$ (R= total de palavras dos tweets relevantes e T= total de palavras de todos os tweets)\n",
    "   * $\\quad\\quad P(R) =$ $\\frac{I}{T}$ (I= total de palavras dos tweets irrelevantes e T= total de palavras de todos os tweets)\n",
    "   \n",
    "   \n",
    "##### em seguida:\n",
    "  Calcular $P(T|R)$ e $P(T|I)$\n",
    "  \n",
    "  Sendo:\n",
    "  * $\\quad\\quad\\quad P(palavra|R) = \\frac{Tr}{R}$\n",
    "  $\\quad\\quad\\quad Tr=$ total de vezes que a palavra apareceu nos tweets relevantes\n",
    "  \n",
    "  \n",
    "  $\\quad\\quad P(T|R) = P(palavra1|R) \\cdot P(palavra2|R) \\cdot P(palavra3|R) \\cdot P(palavra4|R) \\cdot P(palavra5|R) \\cdot ... \\cdot P(palavraN|R)$\n",
    "\n",
    "\n",
    "\n"
   ],
   "metadata": {}
  },
  {
   "cell_type": "code",
   "execution_count": 16,
   "source": [
    "#Calculo de P(R) e P(I)\r\n",
    "probR = sum(tab_rel_absoluta) / sum(tab_total_absoluta)\r\n",
    "\r\n",
    "probI = sum(tab_irr_absoluta) / sum(tab_total_absoluta)"
   ],
   "outputs": [],
   "metadata": {}
  },
  {
   "cell_type": "code",
   "execution_count": 17,
   "source": [
    "#Fazendo a limpeza\r\n",
    "l_test= []\r\n",
    "for i in test.Teste:\r\n",
    "    l_test.append(limpeza(i).split())"
   ],
   "outputs": [],
   "metadata": {}
  },
  {
   "cell_type": "code",
   "execution_count": 18,
   "source": [
    "# criando um DataFrame para o computador preencher\r\n",
    "\r\n",
    "df = {'TweetN':  [],\r\n",
    "        'N_Classificação': [],\r\n",
    "        }\r\n",
    "NovoDF = pd.DataFrame(df, columns = ['TweetN','N_Classificação'])"
   ],
   "outputs": [],
   "metadata": {}
  },
  {
   "cell_type": "markdown",
   "source": [
    "### Terceiro Desenvolvimento:\n",
    "\n",
    "#####  Calcular as probabilidades com a suavização de laplace tanto para os relevantes, quanto para os irrelevantes, como mostrado abaixo:\n",
    "\n",
    "\n",
    " Para relevantes:\n",
    " * $\\quad P(R|T) = \\frac{P(T \\cap R)}{P(T)}$ $\\Rightarrow$ $P(R|T) = \\frac{P(T|R) \\cdot P(R)}{P(T)}$ $\\quad$\n",
    " \n",
    " \n",
    " Para irrelevantes:\n",
    " * $\\quad P(I|T) = \\frac{P(T \\cap I)}{P(T)}$ $\\Rightarrow$ $P(I|T) = \\frac{P(T|I) \\cdot P(I)}{P(T)}$ $\\quad$\n",
    " \n",
    " \n",
    " ###### Assim, descobrindo e comparando as probabilidades pela definição dos tweet (R) para relevante e (I) para irrelevante:\n",
    " \n",
    " \n",
    " * $P(R|T)$ \n",
    "\n",
    " * $P(I|T)$\n",
    " \n",
    " * $\\quad  P(R|T) > P(I|T)$ ou $P(R|T) < P(I|T)$ $\\quad$"
   ],
   "metadata": {}
  },
  {
   "cell_type": "code",
   "execution_count": 19,
   "source": [
    "# #Calculando a probabilidade de uma frase ser R ou I por Naive Bayes e a suavização de laplace\r\n",
    "\r\n",
    "# contador que acessa a linha desejada da tabela\r\n",
    "contador = 0\r\n",
    "for frase in l_test:\r\n",
    "    \r\n",
    "    probTDadoR = 1\r\n",
    "    for palavra in frase:\r\n",
    "        # Laplace smoothing\r\n",
    "        if palavra in tab_rel_absoluta:\r\n",
    "            probTDadoR*=(tab_rel_absoluta[palavra] + 1) / (len(tab_relevante) + len(palavras_separadas_total))\r\n",
    "        else:\r\n",
    "            probTDadoR*=(0 + 1) / (len(tab_relevante ) + len(palavras_separadas_total))\r\n",
    "                    \r\n",
    "    probTDadoI = 1\r\n",
    "    for palavra in frase:\r\n",
    "        # Laplace smoothing\r\n",
    "        if palavra in tab_irr_absoluta:\r\n",
    "            probTDadoI*=(tab_irr_absoluta[palavra] + 1) / (len(tab_irrelevante) + len(palavras_separadas_total))\r\n",
    "        else:\r\n",
    "            probTDadoI*=(0 + 1) / (len(tab_irrelevante) + len(palavras_separadas_total))\r\n",
    "      \r\n",
    "    probRdadoT = probTDadoR*probR  \r\n",
    "    probIdadoT = probTDadoI*probI\r\n",
    " \r\n",
    "  # Comparação das probabilidades e montando a tabela nova\r\n",
    "    if probRdadoT>probIdadoT:\r\n",
    "        \r\n",
    "        NovoDF.loc[contador,\"TweetN\"]= \" \".join(frase)\r\n",
    "        NovoDF.loc[NovoDF.TweetN==\" \".join(frase),\"N_Classificação\"] = \"R\"\r\n",
    "    \r\n",
    "    elif probRdadoT<probIdadoT:\r\n",
    "        \r\n",
    "        NovoDF.loc[contador,\"TweetN\"]= \" \".join(frase)\r\n",
    "        NovoDF.loc[NovoDF.TweetN==\" \".join(frase),\"N_Classificação\"] = \"I\"\r\n",
    "    \r\n",
    "    contador+=1"
   ],
   "outputs": [],
   "metadata": {}
  },
  {
   "cell_type": "markdown",
   "source": [
    "###  Verificando a performance do classificador e resultados:\n",
    "\n",
    "Agora você deve testar o seu classificador com a base de Testes."
   ],
   "metadata": {}
  },
  {
   "cell_type": "code",
   "execution_count": 23,
   "source": [
    "# Criação de nova coluna \r\n",
    "NovoDF[\"Performance\"] = \" \"\r\n",
    "\r\n",
    "# verificação e preenchendo da tabela nova\r\n",
    "for i in range(len(NovoDF)):\r\n",
    "    if NovoDF.iloc[i, 1] == test.iloc[i,1]:\r\n",
    "        if NovoDF.iloc[i, 1] == \"R\": NovoDF.iloc[i, 2]=\"Vdd_Positivo\"\r\n",
    "            \r\n",
    "        else: NovoDF.iloc[i, 2]=\"Vdd_Negativo\"  \r\n",
    "    \r\n",
    "    elif NovoDF.iloc[i, 1] != test.iloc[i,1]:       \r\n",
    "        if NovoDF.iloc[i, 1] == \"R\": NovoDF.iloc[i, 2]=\"Falso_Positivo\"\r\n",
    "            \r\n",
    "        else: NovoDF.iloc[i, 2]=\"Falso_Negativo\""
   ],
   "outputs": [],
   "metadata": {}
  },
  {
   "cell_type": "code",
   "execution_count": 24,
   "source": [
    "NovoDF"
   ],
   "outputs": [
    {
     "output_type": "execute_result",
     "data": {
      "text/html": [
       "<div>\n",
       "<style scoped>\n",
       "    .dataframe tbody tr th:only-of-type {\n",
       "        vertical-align: middle;\n",
       "    }\n",
       "\n",
       "    .dataframe tbody tr th {\n",
       "        vertical-align: top;\n",
       "    }\n",
       "\n",
       "    .dataframe thead th {\n",
       "        text-align: right;\n",
       "    }\n",
       "</style>\n",
       "<table border=\"1\" class=\"dataframe\">\n",
       "  <thead>\n",
       "    <tr style=\"text-align: right;\">\n",
       "      <th></th>\n",
       "      <th>TweetN</th>\n",
       "      <th>N_Classificação</th>\n",
       "      <th>Performance</th>\n",
       "    </tr>\n",
       "  </thead>\n",
       "  <tbody>\n",
       "    <tr>\n",
       "      <th>0</th>\n",
       "      <td>unico jogo novo anunciado pela sony que eu que...</td>\n",
       "      <td>I</td>\n",
       "      <td>Falso_Negativo</td>\n",
       "    </tr>\n",
       "    <tr>\n",
       "      <th>1</th>\n",
       "      <td>sony no seu nivel mais belo ne kkkkkkkkkk</td>\n",
       "      <td>R</td>\n",
       "      <td>Falso_Positivo</td>\n",
       "    </tr>\n",
       "    <tr>\n",
       "      <th>2</th>\n",
       "      <td>a sony vai lancar uma sequencia de jogos mt fo...</td>\n",
       "      <td>R</td>\n",
       "      <td>Falso_Positivo</td>\n",
       "    </tr>\n",
       "    <tr>\n",
       "      <th>3</th>\n",
       "      <td>gloria a sony</td>\n",
       "      <td>I</td>\n",
       "      <td>Vdd_Negativo</td>\n",
       "    </tr>\n",
       "    <tr>\n",
       "      <th>4</th>\n",
       "      <td>sony liberou a versao do ps5 fonte google</td>\n",
       "      <td>I</td>\n",
       "      <td>Vdd_Negativo</td>\n",
       "    </tr>\n",
       "    <tr>\n",
       "      <th>...</th>\n",
       "      <td>...</td>\n",
       "      <td>...</td>\n",
       "      <td>...</td>\n",
       "    </tr>\n",
       "    <tr>\n",
       "      <th>195</th>\n",
       "      <td>pois e kkkk ao menos a sony podia ter especifi...</td>\n",
       "      <td>I</td>\n",
       "      <td>Falso_Negativo</td>\n",
       "    </tr>\n",
       "    <tr>\n",
       "      <th>196</th>\n",
       "      <td>funimation encomendando dublagens a todo vapor...</td>\n",
       "      <td>R</td>\n",
       "      <td>Falso_Positivo</td>\n",
       "    </tr>\n",
       "    <tr>\n",
       "      <th>197</th>\n",
       "      <td>quer saber tudo o que aconteceu na showcase da...</td>\n",
       "      <td>I</td>\n",
       "      <td>Vdd_Negativo</td>\n",
       "    </tr>\n",
       "    <tr>\n",
       "      <th>198</th>\n",
       "      <td>o playstation 5 bateu o recorde do playstation...</td>\n",
       "      <td>I</td>\n",
       "      <td>Vdd_Negativo</td>\n",
       "    </tr>\n",
       "    <tr>\n",
       "      <th>199</th>\n",
       "      <td>se nao for pra ofender a sony caixista nem liga</td>\n",
       "      <td>I</td>\n",
       "      <td>Vdd_Negativo</td>\n",
       "    </tr>\n",
       "  </tbody>\n",
       "</table>\n",
       "<p>200 rows × 3 columns</p>\n",
       "</div>"
      ],
      "text/plain": [
       "                                                TweetN N_Classificação  \\\n",
       "0    unico jogo novo anunciado pela sony que eu que...               I   \n",
       "1            sony no seu nivel mais belo ne kkkkkkkkkk               R   \n",
       "2    a sony vai lancar uma sequencia de jogos mt fo...               R   \n",
       "3                                        gloria a sony               I   \n",
       "4            sony liberou a versao do ps5 fonte google               I   \n",
       "..                                                 ...             ...   \n",
       "195  pois e kkkk ao menos a sony podia ter especifi...               I   \n",
       "196  funimation encomendando dublagens a todo vapor...               R   \n",
       "197  quer saber tudo o que aconteceu na showcase da...               I   \n",
       "198  o playstation 5 bateu o recorde do playstation...               I   \n",
       "199    se nao for pra ofender a sony caixista nem liga               I   \n",
       "\n",
       "        Performance  \n",
       "0    Falso_Negativo  \n",
       "1    Falso_Positivo  \n",
       "2    Falso_Positivo  \n",
       "3      Vdd_Negativo  \n",
       "4      Vdd_Negativo  \n",
       "..              ...  \n",
       "195  Falso_Negativo  \n",
       "196  Falso_Positivo  \n",
       "197    Vdd_Negativo  \n",
       "198    Vdd_Negativo  \n",
       "199    Vdd_Negativo  \n",
       "\n",
       "[200 rows x 3 columns]"
      ]
     },
     "metadata": {},
     "execution_count": 24
    }
   ],
   "metadata": {}
  },
  {
   "cell_type": "code",
   "execution_count": 25,
   "source": [
    "# Calculo das porcentagens\r\n",
    "p = NovoDF.Performance.value_counts(normalize=True).round(4)*100\r\n",
    "vp = p[\"Vdd_Positivo\"].round(4)\r\n",
    "fp = p[\"Falso_Positivo\"]\r\n",
    "vn = p[\"Vdd_Negativo\"]\r\n",
    "fn = p[\"Falso_Negativo\"]\r\n",
    "print(\"{0}% Verdadeiro Positivo\".format(vp))\r\n",
    "print(\"{0}% Verdadeiro Negativo\".format(vn))\r\n",
    "print(\"{0}% Falso Negativo\".format(fn))\r\n",
    "print(\"{0}% Falso Positivo\".format(fp))"
   ],
   "outputs": [
    {
     "output_type": "stream",
     "name": "stdout",
     "text": [
      "14.0% Verdadeiro Positivo\n",
      "47.5% Verdadeiro Negativo\n",
      "17.5% Falso Negativo\n",
      "21.0% Falso Positivo\n"
     ]
    }
   ],
   "metadata": {}
  },
  {
   "cell_type": "code",
   "execution_count": 27,
   "source": [
    "NovoDF['N_Classificação'].value_counts()"
   ],
   "outputs": [
    {
     "output_type": "execute_result",
     "data": {
      "text/plain": [
       "I    130\n",
       "R     70\n",
       "Name: N_Classificação, dtype: int64"
      ]
     },
     "metadata": {},
     "execution_count": 27
    }
   ],
   "metadata": {}
  },
  {
   "cell_type": "markdown",
   "source": [
    "___\n",
    "### Concluindo"
   ],
   "metadata": {}
  },
  {
   "cell_type": "code",
   "execution_count": 28,
   "source": [
    "#Distrubuição de acertos\r\n",
    "d_Acertos= pd.crosstab(NovoDF[\"N_Classificação\"],NovoDF['Performance'], normalize=True).round(4)*100\r\n",
    "d_Acertos"
   ],
   "outputs": [
    {
     "output_type": "execute_result",
     "data": {
      "text/html": [
       "<div>\n",
       "<style scoped>\n",
       "    .dataframe tbody tr th:only-of-type {\n",
       "        vertical-align: middle;\n",
       "    }\n",
       "\n",
       "    .dataframe tbody tr th {\n",
       "        vertical-align: top;\n",
       "    }\n",
       "\n",
       "    .dataframe thead th {\n",
       "        text-align: right;\n",
       "    }\n",
       "</style>\n",
       "<table border=\"1\" class=\"dataframe\">\n",
       "  <thead>\n",
       "    <tr style=\"text-align: right;\">\n",
       "      <th>Performance</th>\n",
       "      <th>Falso_Negativo</th>\n",
       "      <th>Falso_Positivo</th>\n",
       "      <th>Vdd_Negativo</th>\n",
       "      <th>Vdd_Positivo</th>\n",
       "    </tr>\n",
       "    <tr>\n",
       "      <th>N_Classificação</th>\n",
       "      <th></th>\n",
       "      <th></th>\n",
       "      <th></th>\n",
       "      <th></th>\n",
       "    </tr>\n",
       "  </thead>\n",
       "  <tbody>\n",
       "    <tr>\n",
       "      <th>I</th>\n",
       "      <td>17.5</td>\n",
       "      <td>0.0</td>\n",
       "      <td>47.5</td>\n",
       "      <td>0.0</td>\n",
       "    </tr>\n",
       "    <tr>\n",
       "      <th>R</th>\n",
       "      <td>0.0</td>\n",
       "      <td>21.0</td>\n",
       "      <td>0.0</td>\n",
       "      <td>14.0</td>\n",
       "    </tr>\n",
       "  </tbody>\n",
       "</table>\n",
       "</div>"
      ],
      "text/plain": [
       "Performance      Falso_Negativo  Falso_Positivo  Vdd_Negativo  Vdd_Positivo\n",
       "N_Classificação                                                            \n",
       "I                          17.5             0.0          47.5           0.0\n",
       "R                           0.0            21.0           0.0          14.0"
      ]
     },
     "metadata": {},
     "execution_count": 28
    }
   ],
   "metadata": {}
  },
  {
   "cell_type": "code",
   "execution_count": 31,
   "source": [
    "# Acertos e erros\r\n",
    "acerto = p[\"Vdd_Positivo\"] + p[\"Vdd_Negativo\"]\r\n",
    "acertos = acerto.round(5)\r\n",
    "erro = p[\"Falso_Positivo\"] + p[\"Falso_Negativo\"]\r\n",
    "erros = erro.round(5)\r\n",
    "print(\"A porcentagem de acerto é de {0}%\".format(acerto))\r\n",
    "print(\"A porcentagem de erro é de {0}%\".format(erro))"
   ],
   "outputs": [
    {
     "output_type": "stream",
     "name": "stdout",
     "text": [
      "A porcentagem de acerto é de 61.5%\n",
      "A porcentagem de erro é de 38.5%\n"
     ]
    }
   ],
   "metadata": {}
  },
  {
   "cell_type": "markdown",
   "source": [
    "### Análise:\r\n",
    "\r\n",
    "   Para o desenvolvimento do projeto, foi utilizado uma base de dados de 500 tweets, sendo eles 300 para base de treinamento e 200 para a base de teste. A base de teste tinha 130 tweets irrelevantes e 70 relevantes, O classificador obteve uma performance aceitável, visto que teve uma precisão de 61.5% de acerto, considerando pequeno o tamanho da base de dados utilizada e que não foi realizada a classificação avançada.\r\n",
    "  \r\n",
    "### Mensagens com dupla negação e sarcasmo:\r\n",
    "\r\n",
    "   A dupla negação e o sarcasmo não são identificados, já que o classificador trata eles indiferentemente, não conseguindo interpretar o contexto das frases, assim fazendo com que o programa não consiga diferenciar a negação e o sarcasmo. O classificador interpreta a palavra como um elemento independente e não inserido em um contexto de frase ou texto. O único momento do projeto que foi percebido a influência do sarcasmo e dupla negação foi na classificação dos tweets no excel, feito manualmente pela dupla, onde foi realizado o próprio julgamento dos autores do projeto sobre o que deve ser relevante ou não.\r\n",
    "    \r\n",
    "### Conclusão:\r\n",
    "\r\n",
    "   \r\n",
    "    \r\n",
    "#### Por qual motivo devem continuar a investir no nosso projeto:\r\n",
    "\r\n",
    "   Tendo em vista o tamanho da base de dados, é possível expandi-la, tendo uma base de dados maior com mais tweets, onde será possível extrair mais informações relevantes, assim igualando a quantidades de tweets relevantes e irrelevantes, para que o classificador tenha um parâmetro melhor para definir um tweet como relevante ou irrelevante. O projeto tem como intuito ajudar a empresa \"Sony\" em varias áreas, como: marketing, desenvolvimento de filmes e desenvolvimento de jogos. Isso porque os tweets coletados têm mensagens negativas em relação aos jogos que poderiam ser mais elaborados, filmes que poderiam ter mais tempo de duração, entre outras informações extraídas. Por conta dessa disponibilidade de informações, o projeto pode acrescentar melhorias à empresa em vários aspectos, tendo assim respostas mais positivas em seus produtos, gerando mais vendas e maior lucro.\r\n",
    "\r\n",
    "    \r\n",
    "#### Diferente cenário para Naïve Bayes fora do contexto do projeto:\r\n",
    "\r\n",
    "   * Detecção de fraudes: identificar se uma transação financeira é “legal” ou “suspeita”.\r\n",
    "   * Programas de filtragem de spam: detectar se e-mail é “normal” ou “spam”.\r\n",
    "   * Aprovação de crédito: classificar um cliente como de “alto”, “médio” ou “baixo” risco para a concessão de crédito."
   ],
   "metadata": {}
  },
  {
   "cell_type": "markdown",
   "source": [
    "___\n",
    "### Qualidade do Classificador a partir de novas separações dos tweets entre Treinamento e Teste\n",
    "\n",
    "Caso for fazer esse item do Projeto"
   ],
   "metadata": {}
  },
  {
   "cell_type": "code",
   "execution_count": null,
   "source": [],
   "outputs": [],
   "metadata": {}
  },
  {
   "cell_type": "markdown",
   "source": [
    "___\n",
    "## Aperfeiçoamento:\n",
    "\n",
    "Trabalhos que conseguirem pelo menos conceito B vão evoluir em conceito dependendo da quantidade de itens avançados:\n",
    "\n",
    "* IMPLEMENTOU outras limpezas e transformações que não afetem a qualidade da informação contida nos tweets. Ex: stemming, lemmatization, stopwords\n",
    "* CORRIGIU separação de espaços entre palavras e emojis ou entre emojis e emojis\n",
    "* CRIOU categorias intermediárias de relevância baseadas na probabilidade: ex.: muito relevante, relevante, neutro, irrelevante, muito irrelevante. Pelo menos quatro categorias, com adição de mais tweets na base, conforme enunciado. (OBRIGATÓRIO PARA TRIOS, sem contar como item avançado)\n",
    "* EXPLICOU porquê não pode usar o próprio classificador para gerar mais amostras de treinamento\n",
    "* PROPÔS diferentes cenários para Naïve Bayes fora do contexto do projeto\n",
    "* SUGERIU e EXPLICOU melhorias reais com indicações concretas de como implementar (indicar como fazer e indicar material de pesquisa)\n",
    "* FEZ o item 6. Qualidade do Classificador a partir de novas separações dos tweets entre Treinamento e Teste descrito no enunciado do projeto (OBRIGATÓRIO para conceitos A ou A+)"
   ],
   "metadata": {}
  },
  {
   "cell_type": "markdown",
   "source": [
    "___\n",
    "## Referências"
   ],
   "metadata": {}
  },
  {
   "cell_type": "markdown",
   "source": [
    "[Naive Bayes and Text Classification](https://arxiv.org/pdf/1410.5329.pdf)  **Mais completo**\n",
    "\n",
    "[A practical explanation of a Naive Bayes Classifier](https://monkeylearn.com/blog/practical-explanation-naive-bayes-classifier/) **Mais simples**"
   ],
   "metadata": {}
  },
  {
   "cell_type": "markdown",
   "source": [
    "https://www.youtube.com/watch?v=F_gYj6fcSl4 **Ensina como remover os acentos**\n",
    "\n",
    "\n",
    "https://gist.github.com/luizomf/54b58615cd674db44153470c369a8284 **git do Youtube**\n",
    "\n",
    "***Contextualização do Naive Bayes:*** https://www.datageeks.com.br/naive-bayes/ & https://www.vooo.pro/insights/6-passos-faceis-para-aprender-o-algoritmo-naive-bayes-com-o-codigo-em-python/"
   ],
   "metadata": {}
  },
  {
   "cell_type": "code",
   "execution_count": null,
   "source": [],
   "outputs": [],
   "metadata": {}
  }
 ],
 "metadata": {
  "kernelspec": {
   "display_name": "Python 3",
   "language": "python",
   "name": "python3"
  },
  "language_info": {
   "codemirror_mode": {
    "name": "ipython",
    "version": 3
   },
   "file_extension": ".py",
   "mimetype": "text/x-python",
   "name": "python",
   "nbconvert_exporter": "python",
   "pygments_lexer": "ipython3",
   "version": "3.8.5"
  }
 },
 "nbformat": 4,
 "nbformat_minor": 4
}